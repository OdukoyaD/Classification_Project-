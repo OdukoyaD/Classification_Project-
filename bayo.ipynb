{
 "cells": [
  {
   "cell_type": "markdown",
   "id": "fee2793b",
   "metadata": {},
   "source": [
    "<a id=\"2\"></a>\n",
    "\n",
    "# **2. Imports**\n",
    "Will import necessary packages for data manupulation e.g numpy, data viewing e.g pandas, plotting e.g matplot library, seaborn and additional packages for text processing and numerical computations"
   ]
  },
  {
   "cell_type": "code",
   "execution_count": 1,
   "id": "e13eaaf4",
   "metadata": {},
   "outputs": [],
   "source": [
    "#packages for general processing of data\n",
    "import numpy as np\n",
    "import pandas as pd\n",
    "import matplotlib.pyplot as plt\n",
    "%matplotlib inline\n",
    "import seaborn as sns\n",
    "import re\n",
    "import warnings\n",
    "# set plot style\n",
    "sns.set()\n",
    "\n",
    "#packages for natural language processing\n",
    "import nltk\n",
    "from nltk.stem import WordNetLemmatizer\n",
    "from sklearn.feature_extraction.text import CountVectorizer\n",
    "lemmatizer = WordNetLemmatizer()\n",
    "import string\n",
    "\n",
    "#Packages for machine learning algorithms\n",
    "from sklearn.linear_model import LogisticRegression\n",
    "from sklearn.model_selection import train_test_split\n",
    "from sklearn.ensemble import RandomForestClassifier\n",
    "\n",
    "#packages for checking the performance of the models used\n",
    "from sklearn.metrics import confusion_matrix\n",
    "from sklearn.metrics import classification_report\n",
    "\n",
    "#packages for web scraping\n",
    "from urllib.request import urlopen\n",
    "from bs4 import BeautifulSoup\n",
    "import re\n",
    "\n",
    "\n",
    "#packages for balancing our data\n",
    "from sklearn.utils import resample\n",
    "import imblearn\n",
    "from imblearn.over_sampling import SMOTE"
   ]
  },
  {
   "cell_type": "markdown",
   "id": "59dea567",
   "metadata": {},
   "source": [
    "We are ready with all the packages required for the data processing. The next step is to import the available data for analysis.\n",
    ">For the purpose of this project, we have been provided with the following data:\n",
    ">1. df_train.csv :- This data wil be using for training our model\n",
    ">2. df_test.csv :- This data will test our model for the purpose of kaggle competition\n",
    ">3. Sample_submission.csv :- Contain a sample submission on kaggle"
   ]
  },
  {
   "cell_type": "code",
   "execution_count": 2,
   "id": "3c1282a4",
   "metadata": {},
   "outputs": [],
   "source": [
    "df_train = pd.read_csv('./train.csv') # This code imports the train data \n",
    "df_test = pd.read_csv('./test.csv') # This code import the test data\n",
    "sample = pd.read_csv('./sample_submission.csv') #This code imports a sample submission data"
   ]
  },
  {
   "cell_type": "markdown",
   "id": "11d6dc9c",
   "metadata": {},
   "source": [
    "For good practice, will not modify the given data but we will instead make a copy of both the training and testing data as follows"
   ]
  },
  {
   "cell_type": "code",
   "execution_count": 3,
   "id": "40e938f2",
   "metadata": {},
   "outputs": [],
   "source": [
    "df = df_train.copy() # This code makes a copy of the training data\n",
    "test_data = df_test.copy() # This code makes a copy of the test data"
   ]
  },
  {
   "cell_type": "markdown",
   "id": "cc41263b",
   "metadata": {},
   "source": [
    "# EXPLORATORY DATA ANALYSIS"
   ]
  },
  {
   "cell_type": "markdown",
   "id": "8087caa1",
   "metadata": {},
   "source": [
    "We will try to dig deep into both the training and testing data to ensure that our data meets the following:\n",
    ">1. Correctly formatted\n",
    ">2. Have the correct data types\n",
    ">3. No null values\n",
    ">4. Correctly distributed i.e. normally distributed\n",
    ">5. No coliniarity for classification problem or no multicollinearity for regression problem\n",
    "\n",
    "Exploratory data analysis is the key that will lead us to feature engineering and choosing the right machine learning algorithm for our data"
   ]
  },
  {
   "cell_type": "markdown",
   "id": "46580bed",
   "metadata": {},
   "source": [
    "### a). Checking the content of the training data"
   ]
  },
  {
   "cell_type": "code",
   "execution_count": 4,
   "id": "742f2db7",
   "metadata": {},
   "outputs": [
    {
     "data": {
      "text/html": [
       "<div>\n",
       "<style scoped>\n",
       "    .dataframe tbody tr th:only-of-type {\n",
       "        vertical-align: middle;\n",
       "    }\n",
       "\n",
       "    .dataframe tbody tr th {\n",
       "        vertical-align: top;\n",
       "    }\n",
       "\n",
       "    .dataframe thead th {\n",
       "        text-align: right;\n",
       "    }\n",
       "</style>\n",
       "<table border=\"1\" class=\"dataframe\">\n",
       "  <thead>\n",
       "    <tr style=\"text-align: right;\">\n",
       "      <th></th>\n",
       "      <th>sentiment</th>\n",
       "      <th>message</th>\n",
       "      <th>tweetid</th>\n",
       "    </tr>\n",
       "  </thead>\n",
       "  <tbody>\n",
       "    <tr>\n",
       "      <th>0</th>\n",
       "      <td>1</td>\n",
       "      <td>PolySciMajor EPA chief doesn't think carbon di...</td>\n",
       "      <td>625221</td>\n",
       "    </tr>\n",
       "    <tr>\n",
       "      <th>1</th>\n",
       "      <td>1</td>\n",
       "      <td>It's not like we lack evidence of anthropogeni...</td>\n",
       "      <td>126103</td>\n",
       "    </tr>\n",
       "    <tr>\n",
       "      <th>2</th>\n",
       "      <td>2</td>\n",
       "      <td>RT @RawStory: Researchers say we have three ye...</td>\n",
       "      <td>698562</td>\n",
       "    </tr>\n",
       "    <tr>\n",
       "      <th>3</th>\n",
       "      <td>1</td>\n",
       "      <td>#TodayinMaker# WIRED : 2016 was a pivotal year...</td>\n",
       "      <td>573736</td>\n",
       "    </tr>\n",
       "    <tr>\n",
       "      <th>4</th>\n",
       "      <td>1</td>\n",
       "      <td>RT @SoyNovioDeTodas: It's 2016, and a racist, ...</td>\n",
       "      <td>466954</td>\n",
       "    </tr>\n",
       "  </tbody>\n",
       "</table>\n",
       "</div>"
      ],
      "text/plain": [
       "   sentiment                                            message  tweetid\n",
       "0          1  PolySciMajor EPA chief doesn't think carbon di...   625221\n",
       "1          1  It's not like we lack evidence of anthropogeni...   126103\n",
       "2          2  RT @RawStory: Researchers say we have three ye...   698562\n",
       "3          1  #TodayinMaker# WIRED : 2016 was a pivotal year...   573736\n",
       "4          1  RT @SoyNovioDeTodas: It's 2016, and a racist, ...   466954"
      ]
     },
     "execution_count": 4,
     "metadata": {},
     "output_type": "execute_result"
    }
   ],
   "source": [
    "#We start by checking the features available in our training data\n",
    "df.head()"
   ]
  },
  {
   "cell_type": "code",
   "execution_count": 5,
   "id": "67697b7d",
   "metadata": {},
   "outputs": [
    {
     "name": "stdout",
     "output_type": "stream",
     "text": [
      "['sentiment', 'message', 'tweetid']\n"
     ]
    }
   ],
   "source": [
    "#we also check the column names as follows\n",
    "print(df.columns.to_list())"
   ]
  },
  {
   "cell_type": "markdown",
   "id": "f4df56f2",
   "metadata": {},
   "source": [
    "In both cases, we see three columns i.e. sentiment (the y variable based on the predict), message and tweetid(the unique identification of each entry)"
   ]
  },
  {
   "cell_type": "markdown",
   "id": "c0f6896a",
   "metadata": {},
   "source": [
    "### b). Checking the content of the testing data"
   ]
  },
  {
   "cell_type": "code",
   "execution_count": 6,
   "id": "37292854",
   "metadata": {},
   "outputs": [
    {
     "data": {
      "text/html": [
       "<div>\n",
       "<style scoped>\n",
       "    .dataframe tbody tr th:only-of-type {\n",
       "        vertical-align: middle;\n",
       "    }\n",
       "\n",
       "    .dataframe tbody tr th {\n",
       "        vertical-align: top;\n",
       "    }\n",
       "\n",
       "    .dataframe thead th {\n",
       "        text-align: right;\n",
       "    }\n",
       "</style>\n",
       "<table border=\"1\" class=\"dataframe\">\n",
       "  <thead>\n",
       "    <tr style=\"text-align: right;\">\n",
       "      <th></th>\n",
       "      <th>message</th>\n",
       "      <th>tweetid</th>\n",
       "    </tr>\n",
       "  </thead>\n",
       "  <tbody>\n",
       "    <tr>\n",
       "      <th>0</th>\n",
       "      <td>Europe will now be looking to China to make su...</td>\n",
       "      <td>169760</td>\n",
       "    </tr>\n",
       "    <tr>\n",
       "      <th>1</th>\n",
       "      <td>Combine this with the polling of staffers re c...</td>\n",
       "      <td>35326</td>\n",
       "    </tr>\n",
       "    <tr>\n",
       "      <th>2</th>\n",
       "      <td>The scary, unimpeachable evidence that climate...</td>\n",
       "      <td>224985</td>\n",
       "    </tr>\n",
       "    <tr>\n",
       "      <th>3</th>\n",
       "      <td>@Karoli @morgfair @OsborneInk @dailykos \\nPuti...</td>\n",
       "      <td>476263</td>\n",
       "    </tr>\n",
       "    <tr>\n",
       "      <th>4</th>\n",
       "      <td>RT @FakeWillMoore: 'Female orgasms cause globa...</td>\n",
       "      <td>872928</td>\n",
       "    </tr>\n",
       "  </tbody>\n",
       "</table>\n",
       "</div>"
      ],
      "text/plain": [
       "                                             message  tweetid\n",
       "0  Europe will now be looking to China to make su...   169760\n",
       "1  Combine this with the polling of staffers re c...    35326\n",
       "2  The scary, unimpeachable evidence that climate...   224985\n",
       "3  @Karoli @morgfair @OsborneInk @dailykos \\nPuti...   476263\n",
       "4  RT @FakeWillMoore: 'Female orgasms cause globa...   872928"
      ]
     },
     "execution_count": 6,
     "metadata": {},
     "output_type": "execute_result"
    }
   ],
   "source": [
    "#lets confirm that the test data also have the same content as the train data\n",
    "test_data.head()"
   ]
  },
  {
   "cell_type": "code",
   "execution_count": 7,
   "id": "40d7b3e8",
   "metadata": {},
   "outputs": [
    {
     "name": "stdout",
     "output_type": "stream",
     "text": [
      "['message', 'tweetid']\n"
     ]
    }
   ],
   "source": [
    "#lets see the columns for the test data\n",
    "print(test_data.columns.to_list())"
   ]
  },
  {
   "cell_type": "markdown",
   "id": "f2b1de02",
   "metadata": {},
   "source": [
    "It makes sense for the test data not having the sentiment column i.e. the y  variable. This shows we are good to go"
   ]
  },
  {
   "cell_type": "markdown",
   "id": "2601b3fb",
   "metadata": {},
   "source": [
    "### c). Checking the distribution of the y variable"
   ]
  },
  {
   "cell_type": "code",
   "execution_count": 8,
   "id": "a8844c04",
   "metadata": {},
   "outputs": [
    {
     "data": {
      "text/html": [
       "<div>\n",
       "<style scoped>\n",
       "    .dataframe tbody tr th:only-of-type {\n",
       "        vertical-align: middle;\n",
       "    }\n",
       "\n",
       "    .dataframe tbody tr th {\n",
       "        vertical-align: top;\n",
       "    }\n",
       "\n",
       "    .dataframe thead th {\n",
       "        text-align: right;\n",
       "    }\n",
       "</style>\n",
       "<table border=\"1\" class=\"dataframe\">\n",
       "  <thead>\n",
       "    <tr style=\"text-align: right;\">\n",
       "      <th></th>\n",
       "      <th>message</th>\n",
       "      <th>tweetid</th>\n",
       "    </tr>\n",
       "    <tr>\n",
       "      <th>sentiment</th>\n",
       "      <th></th>\n",
       "      <th></th>\n",
       "    </tr>\n",
       "  </thead>\n",
       "  <tbody>\n",
       "    <tr>\n",
       "      <th>-1</th>\n",
       "      <td>1296</td>\n",
       "      <td>1296</td>\n",
       "    </tr>\n",
       "    <tr>\n",
       "      <th>0</th>\n",
       "      <td>2353</td>\n",
       "      <td>2353</td>\n",
       "    </tr>\n",
       "    <tr>\n",
       "      <th>1</th>\n",
       "      <td>8530</td>\n",
       "      <td>8530</td>\n",
       "    </tr>\n",
       "    <tr>\n",
       "      <th>2</th>\n",
       "      <td>3640</td>\n",
       "      <td>3640</td>\n",
       "    </tr>\n",
       "  </tbody>\n",
       "</table>\n",
       "</div>"
      ],
      "text/plain": [
       "           message  tweetid\n",
       "sentiment                  \n",
       "-1            1296     1296\n",
       " 0            2353     2353\n",
       " 1            8530     8530\n",
       " 2            3640     3640"
      ]
     },
     "execution_count": 8,
     "metadata": {},
     "output_type": "execute_result"
    }
   ],
   "source": [
    "#This code will check how the sentiments are distributed \n",
    "df.groupby(by='sentiment').count() # checking the distribution of the sentiment"
   ]
  },
  {
   "cell_type": "markdown",
   "id": "1eeb9a04",
   "metadata": {},
   "source": [
    "Lets plot the result above in a pie chart to show the percentage of the unique y observations"
   ]
  },
  {
   "cell_type": "code",
   "execution_count": 9,
   "id": "f6808391",
   "metadata": {},
   "outputs": [
    {
     "data": {
      "image/png": "[encoded data removed]",
      "text/plain": [
       "<Figure size 432x288 with 1 Axes>"
      ]
     },
     "metadata": {},
     "output_type": "display_data"
    }
   ],
   "source": [
    "m = df.groupby(by='sentiment').count() #this code group the train data by sentiment and make a count of each group\n",
    "values = m['message'].to_list() # values contains the total counts of each group\n",
    "m_index = m.index.to_list() # m_index contains the label of each group\n",
    "\n",
    "#the code below will plot a pie chart showing the percentage of each sentiment\n",
    "plt.pie(values, labels=m_index)\n",
    "plt.show()"
   ]
  },
  {
   "cell_type": "markdown",
   "id": "36064803",
   "metadata": {},
   "source": [
    "It is not enough to just visualize this on a piechart but rather try to visualize how far each is one group from another. We therefore use a bar graph to achieve our goal"
   ]
  },
  {
   "cell_type": "code",
   "execution_count": 10,
   "id": "90aca988",
   "metadata": {},
   "outputs": [
    {
     "data": {
      "image/png": "[encoded data removed]",
      "text/plain": [
       "<Figure size 432x288 with 1 Axes>"
      ]
     },
     "metadata": {},
     "output_type": "display_data"
    }
   ],
   "source": [
    "#this code will plot the distribution of the sentiments on a bar graph\n",
    "sum_df = df[['sentiment', 'message']].groupby('sentiment').count()\n",
    "\n",
    "# Plot message by sentiment\n",
    "sum_df.sort_values('message', ascending=False).plot(kind='bar')\n",
    "plt.show()"
   ]
  },
  {
   "cell_type": "markdown",
   "id": "c2ccd6ce",
   "metadata": {},
   "source": [
    "### d). Checking for null values and the data types"
   ]
  },
  {
   "cell_type": "code",
   "execution_count": 11,
   "id": "aa2387cf",
   "metadata": {},
   "outputs": [
    {
     "data": {
      "text/plain": [
       "message    0\n",
       "tweetid    0\n",
       "dtype: int64"
      ]
     },
     "execution_count": 11,
     "metadata": {},
     "output_type": "execute_result"
    }
   ],
   "source": [
    "#for this purpose, we will combine both the test and train data set\n",
    "#we drop the sentiment feature for compatablity reasons\n",
    "df_all = pd.concat([df.drop('sentiment', axis = 1),test_data]) \n",
    "\n",
    "\n",
    "#we then check for null values in both data sets\n",
    "df_all.isnull().sum()"
   ]
  },
  {
   "cell_type": "code",
   "execution_count": 12,
   "id": "4ced5f05",
   "metadata": {},
   "outputs": [
    {
     "name": "stdout",
     "output_type": "stream",
     "text": [
      "Data types available are\n",
      "[dtype('O'), dtype('int64')]\n",
      "\n",
      "Below is the table info\n",
      "<class 'pandas.core.frame.DataFrame'>\n",
      "Int64Index: 26365 entries, 0 to 10545\n",
      "Data columns (total 2 columns):\n",
      " #   Column   Non-Null Count  Dtype \n",
      "---  ------   --------------  ----- \n",
      " 0   message  26365 non-null  object\n",
      " 1   tweetid  26365 non-null  int64 \n",
      "dtypes: int64(1), object(1)\n",
      "memory usage: 617.9+ KB\n",
      "None\n"
     ]
    }
   ],
   "source": [
    "#this code will check the data type of each feature\n",
    "print('Data types available are')\n",
    "print(df_all.dtypes.to_list())\n",
    "\n",
    "print('')\n",
    "\n",
    "print('Below is the table info')\n",
    "print(df_all.info())"
   ]
  },
  {
   "cell_type": "markdown",
   "id": "17177f2e",
   "metadata": {},
   "source": [
    "### e). Diving deep into our features"
   ]
  },
  {
   "cell_type": "markdown",
   "id": "5b43ff63",
   "metadata": {},
   "source": [
    "For us to know how to tweek this data for best prediction results. We seek to understand the trends within our features. We will check for the following:\n",
    "> 1. Punctuation \n",
    "> 2. Stopwords \n",
    "> 3. Single words being used in singular and plural form.\n",
    "> 4. Check for links"
   ]
  },
  {
   "cell_type": "code",
   "execution_count": 13,
   "id": "a9e1e298",
   "metadata": {},
   "outputs": [],
   "source": [
    "# We will create a random set of data for our analysis. We will majorly focus on the message feature\n",
    "\n",
    "import random # random will help fetch random index\n",
    "\n",
    "#we dont want to interfere with the index of our dataset here, we therefore make a copy for our analysis\n",
    "eda_df = df_all.copy()\n",
    "\n",
    "#for our plan to work as expected, we will need to rearange the index of our data set\n",
    "eda_df = eda_df.reset_index().drop('index', axis = 1)\n",
    "\n",
    "n = len(eda_df.index.to_list()) #n represent the total number of observations in the whole data set\n",
    "\n",
    "#we make a list of 10 randomly chosen index from our data\n",
    "i = 0\n",
    "check_list = []\n",
    "while i<10:\n",
    "    j = random.randint(0,n)\n",
    "    check_list.append(j)\n",
    "    i = i+1  \n",
    "\n",
    "#we make a list of random data from the 10 randomly chosen index\n",
    "random_data = []\n",
    "for i in check_list:\n",
    "    random_data.append(eda_df.message[i].split())\n",
    "    \n",
    "plain_random_data = []\n",
    "for i in random_data:\n",
    "    for k in i:\n",
    "        plain_random_data.append(k)\n",
    "        \n",
    "#the study data is now ready for use and are stored in a variable called plain_random_data. Lets dive in"
   ]
  },
  {
   "cell_type": "code",
   "execution_count": 14,
   "id": "ad79c980",
   "metadata": {},
   "outputs": [
    {
     "data": {
      "text/plain": [
       "['RT', '@SteveNash:', 'Toby', 'is', 'the']"
      ]
     },
     "execution_count": 14,
     "metadata": {},
     "output_type": "execute_result"
    }
   ],
   "source": [
    "# we then check the subset of the available data and see what operations we can perform\n",
    "plain_random_data[:5]"
   ]
  },
  {
   "cell_type": "markdown",
   "id": "ee6a1ea0",
   "metadata": {},
   "source": [
    " 1. Checking for punctuations"
   ]
  },
  {
   "cell_type": "code",
   "execution_count": 15,
   "id": "9f20aad8",
   "metadata": {},
   "outputs": [],
   "source": [
    "import string\n",
    "\n",
    "#we split the punctuations from the string\n",
    "punctuations = []\n",
    "l = string.punctuation\n",
    "for i in l:\n",
    "    punctuations.append(i)\n",
    "\n",
    "#create a bag of letters for analysis\n",
    "bag_of_letters = []\n",
    "for i in plain_random_data:\n",
    "    for k in i:\n",
    "        bag_of_letters.append(k)\n",
    "\n",
    "#we will create a list of all available punctuations for futher use as well\n",
    "total_punctuations = []\n",
    "for i in bag_of_letters:\n",
    "    if i in punctuations:\n",
    "        total_punctuations.append(i)"
   ]
  },
  {
   "cell_type": "code",
   "execution_count": 16,
   "id": "04bd90b0",
   "metadata": {},
   "outputs": [
    {
     "name": "stdout",
     "output_type": "stream",
     "text": [
      "Total punctuations = 87/1131 letters\n",
      "This accounts to  7.6923076923076925%\n"
     ]
    },
    {
     "data": {
      "image/png": "[encoded data removed]",
      "text/plain": [
       "<Figure size 432x288 with 1 Axes>"
      ]
     },
     "metadata": {},
     "output_type": "display_data"
    }
   ],
   "source": [
    "#lets check if we manage to catch some punctuations in our sample\n",
    "\n",
    "print(f'Total punctuations = {len(total_punctuations)}/{len(bag_of_letters)} letters')\n",
    "print(f'This accounts to  {(len(total_punctuations)/len(bag_of_letters))*100}%')\n",
    "\n",
    "percentage_punctuations = np.round((len(total_punctuations)/len(bag_of_letters))*100, 2)\n",
    "\n",
    "plt.pie([percentage_punctuations, 100-percentage_punctuations], \n",
    "        labels=['punctuations','non punctuations'], explode = [0,0.2], colors = ['red','blue'])\n",
    "plt.show()"
   ]
  },
  {
   "cell_type": "markdown",
   "id": "5d0c85ea",
   "metadata": {},
   "source": [
    "2. checking for stop words"
   ]
  },
  {
   "cell_type": "code",
   "execution_count": 17,
   "id": "62588bf4",
   "metadata": {},
   "outputs": [],
   "source": [
    "#first we import stopwords and define stopwords_list\n",
    "from nltk.corpus import stopwords\n",
    "stopwords_list = stopwords.words('english')\n",
    "\n",
    "#we store all available stopwords in our data in a list called available_stopwords\n",
    "available_stopwords = []\n",
    "for i in plain_random_data:\n",
    "    if i in stopwords_list:\n",
    "        available_stopwords.append(i)"
   ]
  },
  {
   "cell_type": "code",
   "execution_count": 18,
   "id": "d8eee606",
   "metadata": {},
   "outputs": [
    {
     "name": "stdout",
     "output_type": "stream",
     "text": [
      "Total stopwords = 41/172 words\n",
      "This accounts to  23.837209302325583%\n"
     ]
    },
    {
     "data": {
      "image/png": "[encoded data removed]",
      "text/plain": [
       "<Figure size 432x288 with 1 Axes>"
      ]
     },
     "metadata": {},
     "output_type": "display_data"
    }
   ],
   "source": [
    "##lets check if we manage to catch some stopwords in our sample\n",
    "\n",
    "print(f'Total stopwords = {len(available_stopwords)}/{len(plain_random_data)} words')\n",
    "print(f'This accounts to  {(len(available_stopwords)/len(plain_random_data))*100}%')\n",
    "\n",
    "percentage_stopwords = np.round((len(available_stopwords)/len(plain_random_data))*100, 2)\n",
    "\n",
    "plt.pie([percentage_stopwords, 100-percentage_stopwords], \n",
    "        labels=['stopwords','non stopwords'], explode = [0,0.2], colors = ['red','yellow'])\n",
    "plt.show()"
   ]
  },
  {
   "cell_type": "markdown",
   "id": "bf696d97",
   "metadata": {},
   "source": [
    "3. Single Words being used in singular and plural form."
   ]
  },
  {
   "cell_type": "code",
   "execution_count": 20,
   "id": "d4967ee9",
   "metadata": {},
   "outputs": [],
   "source": [
    "#to check for this, we need to know the total number of unique words in our sample and set it to words_unique variable\n",
    "total_words_unique = len(np.unique((np.array(plain_random_data))))\n",
    "\n",
    "# we therefore perform stemming and the total number of unique words reduced, then we can know where to stand\n",
    "\n",
    "#we import the snowballstemmer and set it to english\n",
    "from nltk import SnowballStemmer\n",
    "stemmer = SnowballStemmer('english')\n",
    "\n",
    "#create a list of stemmed sample\n",
    "new_plain_random_data = []\n",
    "\n",
    "for i in plain_random_data:\n",
    "    new_plain_random_data.append(stemmer.stem(i))\n",
    "    \n",
    "new_total_words_unique = len(np.unique((np.array(new_plain_random_data))))"
   ]
  },
  {
   "cell_type": "code",
   "execution_count": 21,
   "id": "dc806137",
   "metadata": {},
   "outputs": [
    {
     "name": "stdout",
     "output_type": "stream",
     "text": [
      "Total unique words before steming = 130\n",
      "Total unique words after steming = 128\n",
      "This accounts to  1.538461538461533 % of the total words\n"
     ]
    },
    {
     "data": {
      "image/png": "[encoded data removed]",
      "text/plain": [
       "<Figure size 432x288 with 1 Axes>"
      ]
     },
     "metadata": {},
     "output_type": "display_data"
    }
   ],
   "source": [
    "#lets confirm if something happened\n",
    "print(f'Total unique words before steming = {total_words_unique}')\n",
    "print(f'Total unique words after steming = {new_total_words_unique}')\n",
    "print(f'This accounts to  {100-((new_total_words_unique/total_words_unique)*100)} % of the total words')\n",
    "\n",
    "#plot a pie chart to show the results\n",
    "percentage_dublicate_words = np.round(100-((new_total_words_unique/total_words_unique)*100),2)\n",
    "plt.pie([percentage_dublicate_words, 100-percentage_dublicate_words], \n",
    "        labels=['dublicated words','unique words'], explode = [0,0.2], colors = ['red','green'])\n",
    "plt.show()"
   ]
  },
  {
   "cell_type": "markdown",
   "id": "1b213ee1",
   "metadata": {},
   "source": [
    "4. checking for links"
   ]
  },
  {
   "cell_type": "code",
   "execution_count": 22,
   "id": "7cbef949",
   "metadata": {},
   "outputs": [],
   "source": [
    "#This code will loop through the sample to get all links  and store them in a variable total_links\n",
    "total_links = []\n",
    "for i in plain_random_data:\n",
    "    if i[:4] in 'http':\n",
    "        total_links.append(i)"
   ]
  },
  {
   "cell_type": "code",
   "execution_count": 23,
   "id": "5660ce9a",
   "metadata": {},
   "outputs": [
    {
     "name": "stdout",
     "output_type": "stream",
     "text": [
      "Total available links = 10 links\n",
      "This account to  5.813953488372093 % of the total words\n"
     ]
    },
    {
     "data": {
      "image/png": "[encoded data removed]",
      "text/plain": [
       "<Figure size 432x288 with 1 Axes>"
      ]
     },
     "metadata": {},
     "output_type": "display_data"
    }
   ],
   "source": [
    "#Lets check if we manage to find some links within our sample\n",
    "print(f'Total available links = {len(total_links)} links')\n",
    "print(f'This account to  {(len(total_links)/len(plain_random_data))*100} % of the total words')\n",
    "\n",
    "percentage_links = np.round((len(total_links)/len(plain_random_data))*100,2)\n",
    "\n",
    "plt.pie([percentage_links, 100-percentage_links], \n",
    "        labels=['links','normal words'], explode = [0,0.2], colors = ['red','green'])\n",
    "plt.show()"
   ]
  },
  {
   "cell_type": "markdown",
   "id": "fe934774",
   "metadata": {},
   "source": [
    "5. checking if we can get something from the links"
   ]
  },
  {
   "cell_type": "markdown",
   "id": "43d81f5b",
   "metadata": {},
   "source": [
    "For this purpose, we will try to dig into the available links and check through their title if we can find some information. We will import beautiful soup for the purpose of web scrapping."
   ]
  },
  {
   "cell_type": "code",
   "execution_count": 25,
   "id": "8da72393",
   "metadata": {},
   "outputs": [
    {
     "name": "stdout",
     "output_type": "stream",
     "text": [
      "https://t.co/E9smaQulJv == url_web\n",
      "https://t.co/1WC520Oieo == url_web\n",
      "https://t.co/nv8WkcD0a3 == url_web\n",
      "https://t.co/L1mj6eUwq5 == url_web\n",
      "https://t.co/LkDehj3tNn == National Geographic Channel\n",
      "https://t.co/xYnkHd6cQk == url_web\n",
      "http… == url_web\n",
      "https://Ã¢â‚¬Â¦ == url_web\n",
      "https://t.co/M2wfxrfUbl == url_web\n",
      "https://t.co/MxIAnpvfxG == url_web\n"
     ]
    }
   ],
   "source": [
    "for i in plain_random_data:\n",
    "    if i[:4] in 'http':\n",
    "        try:\n",
    "            html = urlopen(i)\n",
    "        except:\n",
    "            html = 'url_web'\n",
    "        soup = BeautifulSoup(html)\n",
    "        try:\n",
    "            title = soup.title.text\n",
    "        except AttributeError:\n",
    "            title = 'url_web'\n",
    "        except:\n",
    "            title = 'url_web'\n",
    "        print(f'{i} == {title}')      "
   ]
  },
  {
   "cell_type": "markdown",
   "id": "d99a9d94",
   "metadata": {},
   "source": [
    "### Key take aways from EDA"
   ]
  },
  {
   "cell_type": "code",
   "execution_count": 26,
   "id": "47eecfa6",
   "metadata": {},
   "outputs": [
    {
     "data": {
      "image/png": "[encoded data removed]",
      "text/plain": [
       "<Figure size 432x288 with 1 Axes>"
      ]
     },
     "metadata": {},
     "output_type": "display_data"
    }
   ],
   "source": [
    "#We plot a graph to show the stats from our sample\n",
    "percentages = [percentage_stopwords,percentage_punctuations,percentage_dublicate_words,percentage_links]\n",
    "sns.set_theme(style='whitegrid')\n",
    "fig = sns.barplot(x = ['stop_words', 'punctuations', 'dublicate_words', 'links'],y = percentages)\n",
    "fig.set(xlabel ='',ylabel='percentage occurance')\n",
    "plt.show()"
   ]
  },
  {
   "cell_type": "markdown",
   "id": "e1df7e27",
   "metadata": {},
   "source": [
    "Based on the EXPLORATORY DATA ANALYSIS we have carried out, we have realised the following:\n",
    "1. The data we have is free from Null values: \n",
    "> Most machine learning algorithms such as the random forest classifier, logistic regression, support vector machine etc do not accept data with null values. We, therefore, aim at removing or filling up null values appropriately before feeding our data into any machine learning model.\n",
    "\n",
    "2. The data is not correctly distributed:\n",
    "> The total number of responses differ from one y value to another [ -1 has 1296 responses], [0 has 2353 responces], [1 has 8330 responces], [2 has 3640 responces]. This will be a problem for most machine learning algorithms such as logistic regression. For a model to have an equal probability of predicting each given value of y, then the total count of all y responses should be the same during the training time.\n",
    "\n",
    "3. The data is not correctly formatted:\n",
    "> Even though there are no null values. The data type of each feature in the training set does not all satisfy the expected data types. The message feature consists of the object data type which will need to be rectified before modelling.\n",
    "\n",
    "4. There are uninvited visitors in our data:\n",
    "> stop words and punctuations do impact negatively our model's predictive power. We, therefore, have to remove them in advance before they cause much trouble. \n",
    "\n",
    "5. There is some information that can be found in the links.\n",
    "> Some of these links contain some information i.e. the title talking about climate change. Will need to extract them for our analysis.\n"
   ]
  }
 ],
 "metadata": {
  "kernelspec": {
   "display_name": "Python 3.9.7 ('base')",
   "language": "python",
   "name": "python3"
  },
  "language_info": {
   "codemirror_mode": {
    "name": "ipython",
    "version": 3
   },
   "file_extension": ".py",
   "mimetype": "text/x-python",
   "name": "python",
   "nbconvert_exporter": "python",
   "pygments_lexer": "ipython3",
   "version": "3.9.7"
  },
  "vscode": {
   "interpreter": {
    "hash": "802cb1e8744a12efff365bc58254ebc10937568b0406ead8293cf6c085643cbc"
   }
  }
 },
 "nbformat": 4,
 "nbformat_minor": 5
}
